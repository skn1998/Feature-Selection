{
 "cells": [
  {
   "cell_type": "markdown",
   "metadata": {},
   "source": [
    "# Wrapper Methods"
   ]
  },
  {
   "cell_type": "code",
   "execution_count": 1,
   "metadata": {},
   "outputs": [
    {
     "name": "stdout",
     "output_type": "stream",
     "text": [
      "Requirement already satisfied: mlxtend in c:\\users\\saurav\\anaconda3\\lib\\site-packages (0.17.0)\n",
      "Requirement already satisfied: pandas>=0.24.2 in c:\\users\\saurav\\anaconda3\\lib\\site-packages (from mlxtend) (0.24.2)\n",
      "Requirement already satisfied: scipy>=1.2.1 in c:\\users\\saurav\\anaconda3\\lib\\site-packages (from mlxtend) (1.2.1)\n",
      "Requirement already satisfied: numpy>=1.16.2 in c:\\users\\saurav\\anaconda3\\lib\\site-packages (from mlxtend) (1.16.2)\n",
      "Requirement already satisfied: matplotlib>=3.0.0 in c:\\users\\saurav\\anaconda3\\lib\\site-packages (from mlxtend) (3.0.3)\n",
      "Requirement already satisfied: setuptools in c:\\users\\saurav\\anaconda3\\lib\\site-packages (from mlxtend) (41.6.0)\n",
      "Requirement already satisfied: scikit-learn>=0.20.3 in c:\\users\\saurav\\anaconda3\\lib\\site-packages (from mlxtend) (0.20.3)\n",
      "Requirement already satisfied: joblib>=0.13.2 in c:\\users\\saurav\\anaconda3\\lib\\site-packages (from mlxtend) (0.14.0)\n",
      "Requirement already satisfied: pytz>=2011k in c:\\users\\saurav\\anaconda3\\lib\\site-packages (from pandas>=0.24.2->mlxtend) (2018.9)\n",
      "Requirement already satisfied: python-dateutil>=2.5.0 in c:\\users\\saurav\\anaconda3\\lib\\site-packages (from pandas>=0.24.2->mlxtend) (2.8.0)\n",
      "Requirement already satisfied: cycler>=0.10 in c:\\users\\saurav\\anaconda3\\lib\\site-packages (from matplotlib>=3.0.0->mlxtend) (0.10.0)\n",
      "Requirement already satisfied: kiwisolver>=1.0.1 in c:\\users\\saurav\\anaconda3\\lib\\site-packages (from matplotlib>=3.0.0->mlxtend) (1.0.1)\n",
      "Requirement already satisfied: pyparsing!=2.0.4,!=2.1.2,!=2.1.6,>=2.0.1 in c:\\users\\saurav\\anaconda3\\lib\\site-packages (from matplotlib>=3.0.0->mlxtend) (2.3.1)\n",
      "Requirement already satisfied: six>=1.5 in c:\\users\\saurav\\anaconda3\\lib\\site-packages (from python-dateutil>=2.5.0->pandas>=0.24.2->mlxtend) (1.12.0)\n"
     ]
    }
   ],
   "source": [
    "!pip install mlxtend"
   ]
  },
  {
   "cell_type": "code",
   "execution_count": 2,
   "metadata": {},
   "outputs": [],
   "source": [
    "import numpy as np\n",
    "import pandas as pd\n",
    "import matplotlib.pyplot as plt\n",
    "import seaborn as sns"
   ]
  },
  {
   "cell_type": "code",
   "execution_count": 3,
   "metadata": {},
   "outputs": [],
   "source": [
    "from sklearn.model_selection import train_test_split\n",
    "from sklearn.ensemble import RandomForestClassifier, RandomForestRegressor\n",
    "from sklearn.metrics import accuracy_score, roc_auc_score\n",
    "\n",
    "from mlxtend.feature_selection import SequentialFeatureSelector as SFS"
   ]
  },
  {
   "cell_type": "code",
   "execution_count": 4,
   "metadata": {},
   "outputs": [],
   "source": [
    "from sklearn.datasets import load_wine"
   ]
  },
  {
   "cell_type": "code",
   "execution_count": 5,
   "metadata": {},
   "outputs": [],
   "source": [
    "data = load_wine() ## Multiclass Classification data"
   ]
  },
  {
   "cell_type": "code",
   "execution_count": 6,
   "metadata": {},
   "outputs": [
    {
     "name": "stdout",
     "output_type": "stream",
     "text": [
      ".. _wine_dataset:\n",
      "\n",
      "Wine recognition dataset\n",
      "------------------------\n",
      "\n",
      "**Data Set Characteristics:**\n",
      "\n",
      "    :Number of Instances: 178 (50 in each of three classes)\n",
      "    :Number of Attributes: 13 numeric, predictive attributes and the class\n",
      "    :Attribute Information:\n",
      " \t\t- Alcohol\n",
      " \t\t- Malic acid\n",
      " \t\t- Ash\n",
      "\t\t- Alcalinity of ash  \n",
      " \t\t- Magnesium\n",
      "\t\t- Total phenols\n",
      " \t\t- Flavanoids\n",
      " \t\t- Nonflavanoid phenols\n",
      " \t\t- Proanthocyanins\n",
      "\t\t- Color intensity\n",
      " \t\t- Hue\n",
      " \t\t- OD280/OD315 of diluted wines\n",
      " \t\t- Proline\n",
      "\n",
      "    - class:\n",
      "            - class_0\n",
      "            - class_1\n",
      "            - class_2\n",
      "\t\t\n",
      "    :Summary Statistics:\n",
      "    \n",
      "    ============================= ==== ===== ======= =====\n",
      "                                   Min   Max   Mean     SD\n",
      "    ============================= ==== ===== ======= =====\n",
      "    Alcohol:                      11.0  14.8    13.0   0.8\n",
      "    Malic Acid:                   0.74  5.80    2.34  1.12\n",
      "    Ash:                          1.36  3.23    2.36  0.27\n",
      "    Alcalinity of Ash:            10.6  30.0    19.5   3.3\n",
      "    Magnesium:                    70.0 162.0    99.7  14.3\n",
      "    Total Phenols:                0.98  3.88    2.29  0.63\n",
      "    Flavanoids:                   0.34  5.08    2.03  1.00\n",
      "    Nonflavanoid Phenols:         0.13  0.66    0.36  0.12\n",
      "    Proanthocyanins:              0.41  3.58    1.59  0.57\n",
      "    Colour Intensity:              1.3  13.0     5.1   2.3\n",
      "    Hue:                          0.48  1.71    0.96  0.23\n",
      "    OD280/OD315 of diluted wines: 1.27  4.00    2.61  0.71\n",
      "    Proline:                       278  1680     746   315\n",
      "    ============================= ==== ===== ======= =====\n",
      "\n",
      "    :Missing Attribute Values: None\n",
      "    :Class Distribution: class_0 (59), class_1 (71), class_2 (48)\n",
      "    :Creator: R.A. Fisher\n",
      "    :Donor: Michael Marshall (MARSHALL%PLU@io.arc.nasa.gov)\n",
      "    :Date: July, 1988\n",
      "\n",
      "This is a copy of UCI ML Wine recognition datasets.\n",
      "https://archive.ics.uci.edu/ml/machine-learning-databases/wine/wine.data\n",
      "\n",
      "The data is the results of a chemical analysis of wines grown in the same\n",
      "region in Italy by three different cultivators. There are thirteen different\n",
      "measurements taken for different constituents found in the three types of\n",
      "wine.\n",
      "\n",
      "Original Owners: \n",
      "\n",
      "Forina, M. et al, PARVUS - \n",
      "An Extendible Package for Data Exploration, Classification and Correlation. \n",
      "Institute of Pharmaceutical and Food Analysis and Technologies,\n",
      "Via Brigata Salerno, 16147 Genoa, Italy.\n",
      "\n",
      "Citation:\n",
      "\n",
      "Lichman, M. (2013). UCI Machine Learning Repository\n",
      "[http://archive.ics.uci.edu/ml]. Irvine, CA: University of California,\n",
      "School of Information and Computer Science. \n",
      "\n",
      ".. topic:: References\n",
      "\n",
      "  (1) S. Aeberhard, D. Coomans and O. de Vel, \n",
      "  Comparison of Classifiers in High Dimensional Settings, \n",
      "  Tech. Rep. no. 92-02, (1992), Dept. of Computer Science and Dept. of  \n",
      "  Mathematics and Statistics, James Cook University of North Queensland. \n",
      "  (Also submitted to Technometrics). \n",
      "\n",
      "  The data was used with many others for comparing various \n",
      "  classifiers. The classes are separable, though only RDA \n",
      "  has achieved 100% correct classification. \n",
      "  (RDA : 100%, QDA 99.4%, LDA 98.9%, 1NN 96.1% (z-transformed data)) \n",
      "  (All results using the leave-one-out technique) \n",
      "\n",
      "  (2) S. Aeberhard, D. Coomans and O. de Vel, \n",
      "  \"THE CLASSIFICATION PERFORMANCE OF RDA\" \n",
      "  Tech. Rep. no. 92-01, (1992), Dept. of Computer Science and Dept. of \n",
      "  Mathematics and Statistics, James Cook University of North Queensland. \n",
      "  (Also submitted to Journal of Chemometrics).\n",
      "\n"
     ]
    }
   ],
   "source": [
    "print(data.DESCR)"
   ]
  },
  {
   "cell_type": "code",
   "execution_count": 7,
   "metadata": {},
   "outputs": [],
   "source": [
    "X = pd.DataFrame(data.data, columns=data.feature_names)"
   ]
  },
  {
   "cell_type": "code",
   "execution_count": 8,
   "metadata": {},
   "outputs": [
    {
     "data": {
      "text/html": [
       "<div>\n",
       "<style scoped>\n",
       "    .dataframe tbody tr th:only-of-type {\n",
       "        vertical-align: middle;\n",
       "    }\n",
       "\n",
       "    .dataframe tbody tr th {\n",
       "        vertical-align: top;\n",
       "    }\n",
       "\n",
       "    .dataframe thead th {\n",
       "        text-align: right;\n",
       "    }\n",
       "</style>\n",
       "<table border=\"1\" class=\"dataframe\">\n",
       "  <thead>\n",
       "    <tr style=\"text-align: right;\">\n",
       "      <th></th>\n",
       "      <th>alcohol</th>\n",
       "      <th>malic_acid</th>\n",
       "      <th>ash</th>\n",
       "      <th>alcalinity_of_ash</th>\n",
       "      <th>magnesium</th>\n",
       "      <th>total_phenols</th>\n",
       "      <th>flavanoids</th>\n",
       "      <th>nonflavanoid_phenols</th>\n",
       "      <th>proanthocyanins</th>\n",
       "      <th>color_intensity</th>\n",
       "      <th>hue</th>\n",
       "      <th>od280/od315_of_diluted_wines</th>\n",
       "      <th>proline</th>\n",
       "    </tr>\n",
       "  </thead>\n",
       "  <tbody>\n",
       "    <tr>\n",
       "      <th>0</th>\n",
       "      <td>14.23</td>\n",
       "      <td>1.71</td>\n",
       "      <td>2.43</td>\n",
       "      <td>15.6</td>\n",
       "      <td>127.0</td>\n",
       "      <td>2.80</td>\n",
       "      <td>3.06</td>\n",
       "      <td>0.28</td>\n",
       "      <td>2.29</td>\n",
       "      <td>5.64</td>\n",
       "      <td>1.04</td>\n",
       "      <td>3.92</td>\n",
       "      <td>1065.0</td>\n",
       "    </tr>\n",
       "    <tr>\n",
       "      <th>1</th>\n",
       "      <td>13.20</td>\n",
       "      <td>1.78</td>\n",
       "      <td>2.14</td>\n",
       "      <td>11.2</td>\n",
       "      <td>100.0</td>\n",
       "      <td>2.65</td>\n",
       "      <td>2.76</td>\n",
       "      <td>0.26</td>\n",
       "      <td>1.28</td>\n",
       "      <td>4.38</td>\n",
       "      <td>1.05</td>\n",
       "      <td>3.40</td>\n",
       "      <td>1050.0</td>\n",
       "    </tr>\n",
       "    <tr>\n",
       "      <th>2</th>\n",
       "      <td>13.16</td>\n",
       "      <td>2.36</td>\n",
       "      <td>2.67</td>\n",
       "      <td>18.6</td>\n",
       "      <td>101.0</td>\n",
       "      <td>2.80</td>\n",
       "      <td>3.24</td>\n",
       "      <td>0.30</td>\n",
       "      <td>2.81</td>\n",
       "      <td>5.68</td>\n",
       "      <td>1.03</td>\n",
       "      <td>3.17</td>\n",
       "      <td>1185.0</td>\n",
       "    </tr>\n",
       "    <tr>\n",
       "      <th>3</th>\n",
       "      <td>14.37</td>\n",
       "      <td>1.95</td>\n",
       "      <td>2.50</td>\n",
       "      <td>16.8</td>\n",
       "      <td>113.0</td>\n",
       "      <td>3.85</td>\n",
       "      <td>3.49</td>\n",
       "      <td>0.24</td>\n",
       "      <td>2.18</td>\n",
       "      <td>7.80</td>\n",
       "      <td>0.86</td>\n",
       "      <td>3.45</td>\n",
       "      <td>1480.0</td>\n",
       "    </tr>\n",
       "    <tr>\n",
       "      <th>4</th>\n",
       "      <td>13.24</td>\n",
       "      <td>2.59</td>\n",
       "      <td>2.87</td>\n",
       "      <td>21.0</td>\n",
       "      <td>118.0</td>\n",
       "      <td>2.80</td>\n",
       "      <td>2.69</td>\n",
       "      <td>0.39</td>\n",
       "      <td>1.82</td>\n",
       "      <td>4.32</td>\n",
       "      <td>1.04</td>\n",
       "      <td>2.93</td>\n",
       "      <td>735.0</td>\n",
       "    </tr>\n",
       "  </tbody>\n",
       "</table>\n",
       "</div>"
      ],
      "text/plain": [
       "   alcohol  malic_acid   ash  alcalinity_of_ash  magnesium  total_phenols  \\\n",
       "0    14.23        1.71  2.43               15.6      127.0           2.80   \n",
       "1    13.20        1.78  2.14               11.2      100.0           2.65   \n",
       "2    13.16        2.36  2.67               18.6      101.0           2.80   \n",
       "3    14.37        1.95  2.50               16.8      113.0           3.85   \n",
       "4    13.24        2.59  2.87               21.0      118.0           2.80   \n",
       "\n",
       "   flavanoids  nonflavanoid_phenols  proanthocyanins  color_intensity   hue  \\\n",
       "0        3.06                  0.28             2.29             5.64  1.04   \n",
       "1        2.76                  0.26             1.28             4.38  1.05   \n",
       "2        3.24                  0.30             2.81             5.68  1.03   \n",
       "3        3.49                  0.24             2.18             7.80  0.86   \n",
       "4        2.69                  0.39             1.82             4.32  1.04   \n",
       "\n",
       "   od280/od315_of_diluted_wines  proline  \n",
       "0                          3.92   1065.0  \n",
       "1                          3.40   1050.0  \n",
       "2                          3.17   1185.0  \n",
       "3                          3.45   1480.0  \n",
       "4                          2.93    735.0  "
      ]
     },
     "execution_count": 8,
     "metadata": {},
     "output_type": "execute_result"
    }
   ],
   "source": [
    "X.head()"
   ]
  },
  {
   "cell_type": "code",
   "execution_count": 9,
   "metadata": {},
   "outputs": [],
   "source": [
    "y = data.target"
   ]
  },
  {
   "cell_type": "code",
   "execution_count": 10,
   "metadata": {},
   "outputs": [
    {
     "name": "stdout",
     "output_type": "stream",
     "text": [
      "[0 0 0 0 0]\n"
     ]
    }
   ],
   "source": [
    "print(y[:5])"
   ]
  },
  {
   "cell_type": "code",
   "execution_count": 11,
   "metadata": {},
   "outputs": [
    {
     "name": "stdout",
     "output_type": "stream",
     "text": [
      "(178, 13)\n",
      "(178,)\n"
     ]
    }
   ],
   "source": [
    "print(X.shape)\n",
    "print(y.shape)"
   ]
  },
  {
   "cell_type": "code",
   "execution_count": 12,
   "metadata": {},
   "outputs": [
    {
     "data": {
      "text/plain": [
       "alcohol                         0\n",
       "malic_acid                      0\n",
       "ash                             0\n",
       "alcalinity_of_ash               0\n",
       "magnesium                       0\n",
       "total_phenols                   0\n",
       "flavanoids                      0\n",
       "nonflavanoid_phenols            0\n",
       "proanthocyanins                 0\n",
       "color_intensity                 0\n",
       "hue                             0\n",
       "od280/od315_of_diluted_wines    0\n",
       "proline                         0\n",
       "dtype: int64"
      ]
     },
     "execution_count": 12,
     "metadata": {},
     "output_type": "execute_result"
    }
   ],
   "source": [
    "X.isnull().sum()"
   ]
  },
  {
   "cell_type": "code",
   "execution_count": 13,
   "metadata": {},
   "outputs": [
    {
     "data": {
      "text/html": [
       "<div>\n",
       "<style scoped>\n",
       "    .dataframe tbody tr th:only-of-type {\n",
       "        vertical-align: middle;\n",
       "    }\n",
       "\n",
       "    .dataframe tbody tr th {\n",
       "        vertical-align: top;\n",
       "    }\n",
       "\n",
       "    .dataframe thead th {\n",
       "        text-align: right;\n",
       "    }\n",
       "</style>\n",
       "<table border=\"1\" class=\"dataframe\">\n",
       "  <thead>\n",
       "    <tr style=\"text-align: right;\">\n",
       "      <th></th>\n",
       "      <th>alcohol</th>\n",
       "      <th>malic_acid</th>\n",
       "      <th>ash</th>\n",
       "      <th>alcalinity_of_ash</th>\n",
       "      <th>magnesium</th>\n",
       "      <th>total_phenols</th>\n",
       "      <th>flavanoids</th>\n",
       "      <th>nonflavanoid_phenols</th>\n",
       "      <th>proanthocyanins</th>\n",
       "      <th>color_intensity</th>\n",
       "      <th>hue</th>\n",
       "      <th>od280/od315_of_diluted_wines</th>\n",
       "      <th>proline</th>\n",
       "    </tr>\n",
       "  </thead>\n",
       "  <tbody>\n",
       "    <tr>\n",
       "      <th>count</th>\n",
       "      <td>178.000000</td>\n",
       "      <td>178.000000</td>\n",
       "      <td>178.000000</td>\n",
       "      <td>178.000000</td>\n",
       "      <td>178.000000</td>\n",
       "      <td>178.000000</td>\n",
       "      <td>178.000000</td>\n",
       "      <td>178.000000</td>\n",
       "      <td>178.000000</td>\n",
       "      <td>178.000000</td>\n",
       "      <td>178.000000</td>\n",
       "      <td>178.000000</td>\n",
       "      <td>178.000000</td>\n",
       "    </tr>\n",
       "    <tr>\n",
       "      <th>mean</th>\n",
       "      <td>13.000618</td>\n",
       "      <td>2.336348</td>\n",
       "      <td>2.366517</td>\n",
       "      <td>19.494944</td>\n",
       "      <td>99.741573</td>\n",
       "      <td>2.295112</td>\n",
       "      <td>2.029270</td>\n",
       "      <td>0.361854</td>\n",
       "      <td>1.590899</td>\n",
       "      <td>5.058090</td>\n",
       "      <td>0.957449</td>\n",
       "      <td>2.611685</td>\n",
       "      <td>746.893258</td>\n",
       "    </tr>\n",
       "    <tr>\n",
       "      <th>std</th>\n",
       "      <td>0.811827</td>\n",
       "      <td>1.117146</td>\n",
       "      <td>0.274344</td>\n",
       "      <td>3.339564</td>\n",
       "      <td>14.282484</td>\n",
       "      <td>0.625851</td>\n",
       "      <td>0.998859</td>\n",
       "      <td>0.124453</td>\n",
       "      <td>0.572359</td>\n",
       "      <td>2.318286</td>\n",
       "      <td>0.228572</td>\n",
       "      <td>0.709990</td>\n",
       "      <td>314.907474</td>\n",
       "    </tr>\n",
       "    <tr>\n",
       "      <th>min</th>\n",
       "      <td>11.030000</td>\n",
       "      <td>0.740000</td>\n",
       "      <td>1.360000</td>\n",
       "      <td>10.600000</td>\n",
       "      <td>70.000000</td>\n",
       "      <td>0.980000</td>\n",
       "      <td>0.340000</td>\n",
       "      <td>0.130000</td>\n",
       "      <td>0.410000</td>\n",
       "      <td>1.280000</td>\n",
       "      <td>0.480000</td>\n",
       "      <td>1.270000</td>\n",
       "      <td>278.000000</td>\n",
       "    </tr>\n",
       "    <tr>\n",
       "      <th>25%</th>\n",
       "      <td>12.362500</td>\n",
       "      <td>1.602500</td>\n",
       "      <td>2.210000</td>\n",
       "      <td>17.200000</td>\n",
       "      <td>88.000000</td>\n",
       "      <td>1.742500</td>\n",
       "      <td>1.205000</td>\n",
       "      <td>0.270000</td>\n",
       "      <td>1.250000</td>\n",
       "      <td>3.220000</td>\n",
       "      <td>0.782500</td>\n",
       "      <td>1.937500</td>\n",
       "      <td>500.500000</td>\n",
       "    </tr>\n",
       "    <tr>\n",
       "      <th>50%</th>\n",
       "      <td>13.050000</td>\n",
       "      <td>1.865000</td>\n",
       "      <td>2.360000</td>\n",
       "      <td>19.500000</td>\n",
       "      <td>98.000000</td>\n",
       "      <td>2.355000</td>\n",
       "      <td>2.135000</td>\n",
       "      <td>0.340000</td>\n",
       "      <td>1.555000</td>\n",
       "      <td>4.690000</td>\n",
       "      <td>0.965000</td>\n",
       "      <td>2.780000</td>\n",
       "      <td>673.500000</td>\n",
       "    </tr>\n",
       "    <tr>\n",
       "      <th>75%</th>\n",
       "      <td>13.677500</td>\n",
       "      <td>3.082500</td>\n",
       "      <td>2.557500</td>\n",
       "      <td>21.500000</td>\n",
       "      <td>107.000000</td>\n",
       "      <td>2.800000</td>\n",
       "      <td>2.875000</td>\n",
       "      <td>0.437500</td>\n",
       "      <td>1.950000</td>\n",
       "      <td>6.200000</td>\n",
       "      <td>1.120000</td>\n",
       "      <td>3.170000</td>\n",
       "      <td>985.000000</td>\n",
       "    </tr>\n",
       "    <tr>\n",
       "      <th>max</th>\n",
       "      <td>14.830000</td>\n",
       "      <td>5.800000</td>\n",
       "      <td>3.230000</td>\n",
       "      <td>30.000000</td>\n",
       "      <td>162.000000</td>\n",
       "      <td>3.880000</td>\n",
       "      <td>5.080000</td>\n",
       "      <td>0.660000</td>\n",
       "      <td>3.580000</td>\n",
       "      <td>13.000000</td>\n",
       "      <td>1.710000</td>\n",
       "      <td>4.000000</td>\n",
       "      <td>1680.000000</td>\n",
       "    </tr>\n",
       "  </tbody>\n",
       "</table>\n",
       "</div>"
      ],
      "text/plain": [
       "          alcohol  malic_acid         ash  alcalinity_of_ash   magnesium  \\\n",
       "count  178.000000  178.000000  178.000000         178.000000  178.000000   \n",
       "mean    13.000618    2.336348    2.366517          19.494944   99.741573   \n",
       "std      0.811827    1.117146    0.274344           3.339564   14.282484   \n",
       "min     11.030000    0.740000    1.360000          10.600000   70.000000   \n",
       "25%     12.362500    1.602500    2.210000          17.200000   88.000000   \n",
       "50%     13.050000    1.865000    2.360000          19.500000   98.000000   \n",
       "75%     13.677500    3.082500    2.557500          21.500000  107.000000   \n",
       "max     14.830000    5.800000    3.230000          30.000000  162.000000   \n",
       "\n",
       "       total_phenols  flavanoids  nonflavanoid_phenols  proanthocyanins  \\\n",
       "count     178.000000  178.000000            178.000000       178.000000   \n",
       "mean        2.295112    2.029270              0.361854         1.590899   \n",
       "std         0.625851    0.998859              0.124453         0.572359   \n",
       "min         0.980000    0.340000              0.130000         0.410000   \n",
       "25%         1.742500    1.205000              0.270000         1.250000   \n",
       "50%         2.355000    2.135000              0.340000         1.555000   \n",
       "75%         2.800000    2.875000              0.437500         1.950000   \n",
       "max         3.880000    5.080000              0.660000         3.580000   \n",
       "\n",
       "       color_intensity         hue  od280/od315_of_diluted_wines      proline  \n",
       "count       178.000000  178.000000                    178.000000   178.000000  \n",
       "mean          5.058090    0.957449                      2.611685   746.893258  \n",
       "std           2.318286    0.228572                      0.709990   314.907474  \n",
       "min           1.280000    0.480000                      1.270000   278.000000  \n",
       "25%           3.220000    0.782500                      1.937500   500.500000  \n",
       "50%           4.690000    0.965000                      2.780000   673.500000  \n",
       "75%           6.200000    1.120000                      3.170000   985.000000  \n",
       "max          13.000000    1.710000                      4.000000  1680.000000  "
      ]
     },
     "execution_count": 13,
     "metadata": {},
     "output_type": "execute_result"
    }
   ],
   "source": [
    "X.describe()"
   ]
  },
  {
   "cell_type": "code",
   "execution_count": 14,
   "metadata": {},
   "outputs": [
    {
     "data": {
      "text/plain": [
       "alcohol                         float64\n",
       "malic_acid                      float64\n",
       "ash                             float64\n",
       "alcalinity_of_ash               float64\n",
       "magnesium                       float64\n",
       "total_phenols                   float64\n",
       "flavanoids                      float64\n",
       "nonflavanoid_phenols            float64\n",
       "proanthocyanins                 float64\n",
       "color_intensity                 float64\n",
       "hue                             float64\n",
       "od280/od315_of_diluted_wines    float64\n",
       "proline                         float64\n",
       "dtype: object"
      ]
     },
     "execution_count": 14,
     "metadata": {},
     "output_type": "execute_result"
    }
   ],
   "source": [
    "X.dtypes"
   ]
  },
  {
   "cell_type": "code",
   "execution_count": 15,
   "metadata": {},
   "outputs": [],
   "source": [
    "X_train, X_test, y_train, y_test = train_test_split(X, y)"
   ]
  },
  {
   "cell_type": "markdown",
   "metadata": {},
   "source": [
    "### Step Forward Selection"
   ]
  },
  {
   "cell_type": "code",
   "execution_count": 16,
   "metadata": {},
   "outputs": [],
   "source": [
    "### Selecting from all features manually"
   ]
  },
  {
   "cell_type": "code",
   "execution_count": 17,
   "metadata": {},
   "outputs": [
    {
     "data": {
      "text/html": [
       "<div>\n",
       "<style scoped>\n",
       "    .dataframe tbody tr th:only-of-type {\n",
       "        vertical-align: middle;\n",
       "    }\n",
       "\n",
       "    .dataframe tbody tr th {\n",
       "        vertical-align: top;\n",
       "    }\n",
       "\n",
       "    .dataframe thead th {\n",
       "        text-align: right;\n",
       "    }\n",
       "</style>\n",
       "<table border=\"1\" class=\"dataframe\">\n",
       "  <thead>\n",
       "    <tr style=\"text-align: right;\">\n",
       "      <th></th>\n",
       "      <th>avg_score</th>\n",
       "      <th>ci_bound</th>\n",
       "      <th>cv_scores</th>\n",
       "      <th>feature_idx</th>\n",
       "      <th>feature_names</th>\n",
       "      <th>std_dev</th>\n",
       "      <th>std_err</th>\n",
       "    </tr>\n",
       "  </thead>\n",
       "  <tbody>\n",
       "    <tr>\n",
       "      <th>1</th>\n",
       "      <td>0.743508</td>\n",
       "      <td>0.113079</td>\n",
       "      <td>[0.8571428571428571, 0.6296296296296297, 0.653...</td>\n",
       "      <td>(6,)</td>\n",
       "      <td>(flavanoids,)</td>\n",
       "      <td>0.0879792</td>\n",
       "      <td>0.0439896</td>\n",
       "    </tr>\n",
       "    <tr>\n",
       "      <th>2</th>\n",
       "      <td>0.932743</td>\n",
       "      <td>0.0757985</td>\n",
       "      <td>[0.9642857142857143, 0.8148148148148148, 0.961...</td>\n",
       "      <td>(6, 9)</td>\n",
       "      <td>(flavanoids, color_intensity)</td>\n",
       "      <td>0.0589738</td>\n",
       "      <td>0.0294869</td>\n",
       "    </tr>\n",
       "    <tr>\n",
       "      <th>3</th>\n",
       "      <td>0.962658</td>\n",
       "      <td>0.0301363</td>\n",
       "      <td>[0.9642857142857143, 0.9259259259259259, 0.961...</td>\n",
       "      <td>(6, 9, 12)</td>\n",
       "      <td>(flavanoids, color_intensity, proline)</td>\n",
       "      <td>0.0234471</td>\n",
       "      <td>0.0117235</td>\n",
       "    </tr>\n",
       "    <tr>\n",
       "      <th>4</th>\n",
       "      <td>0.970065</td>\n",
       "      <td>0.0192823</td>\n",
       "      <td>[0.9642857142857143, 0.9629629629629629, 0.961...</td>\n",
       "      <td>(1, 6, 9, 12)</td>\n",
       "      <td>(malic_acid, flavanoids, color_intensity, prol...</td>\n",
       "      <td>0.0150023</td>\n",
       "      <td>0.00750116</td>\n",
       "    </tr>\n",
       "    <tr>\n",
       "      <th>5</th>\n",
       "      <td>0.977208</td>\n",
       "      <td>0.0239281</td>\n",
       "      <td>[1.0, 0.9629629629629629, 0.9615384615384616, ...</td>\n",
       "      <td>(0, 1, 6, 9, 12)</td>\n",
       "      <td>(alcohol, malic_acid, flavanoids, color_intens...</td>\n",
       "      <td>0.0186169</td>\n",
       "      <td>0.00930844</td>\n",
       "    </tr>\n",
       "    <tr>\n",
       "      <th>6</th>\n",
       "      <td>0.969801</td>\n",
       "      <td>0.0358295</td>\n",
       "      <td>[1.0, 0.9259259259259259, 0.9615384615384616, ...</td>\n",
       "      <td>(0, 1, 4, 6, 9, 12)</td>\n",
       "      <td>(alcohol, malic_acid, magnesium, flavanoids, c...</td>\n",
       "      <td>0.0278766</td>\n",
       "      <td>0.0139383</td>\n",
       "    </tr>\n",
       "    <tr>\n",
       "      <th>7</th>\n",
       "      <td>0.977493</td>\n",
       "      <td>0.0382724</td>\n",
       "      <td>[1.0, 0.9259259259259259, 0.9615384615384616, ...</td>\n",
       "      <td>(0, 1, 2, 4, 6, 9, 12)</td>\n",
       "      <td>(alcohol, malic_acid, ash, magnesium, flavanoi...</td>\n",
       "      <td>0.0297772</td>\n",
       "      <td>0.0148886</td>\n",
       "    </tr>\n",
       "    <tr>\n",
       "      <th>8</th>\n",
       "      <td>0.978042</td>\n",
       "      <td>0.0379184</td>\n",
       "      <td>[0.9642857142857143, 0.9259259259259259, 1.0, ...</td>\n",
       "      <td>(0, 1, 2, 3, 4, 6, 9, 12)</td>\n",
       "      <td>(alcohol, malic_acid, ash, alcalinity_of_ash, ...</td>\n",
       "      <td>0.0295018</td>\n",
       "      <td>0.0147509</td>\n",
       "    </tr>\n",
       "    <tr>\n",
       "      <th>9</th>\n",
       "      <td>0.977493</td>\n",
       "      <td>0.0382724</td>\n",
       "      <td>[1.0, 0.9259259259259259, 0.9615384615384616, ...</td>\n",
       "      <td>(0, 1, 2, 3, 4, 6, 8, 9, 12)</td>\n",
       "      <td>(alcohol, malic_acid, ash, alcalinity_of_ash, ...</td>\n",
       "      <td>0.0297772</td>\n",
       "      <td>0.0148886</td>\n",
       "    </tr>\n",
       "    <tr>\n",
       "      <th>10</th>\n",
       "      <td>0.977493</td>\n",
       "      <td>0.0382724</td>\n",
       "      <td>[1.0, 0.9259259259259259, 0.9615384615384616, ...</td>\n",
       "      <td>(0, 1, 2, 3, 4, 6, 8, 9, 10, 12)</td>\n",
       "      <td>(alcohol, malic_acid, ash, alcalinity_of_ash, ...</td>\n",
       "      <td>0.0297772</td>\n",
       "      <td>0.0148886</td>\n",
       "    </tr>\n",
       "    <tr>\n",
       "      <th>11</th>\n",
       "      <td>0.985185</td>\n",
       "      <td>0.0380827</td>\n",
       "      <td>[1.0, 0.9259259259259259, 1.0, 1.0, 1.0]</td>\n",
       "      <td>(0, 1, 2, 3, 4, 6, 7, 8, 9, 10, 12)</td>\n",
       "      <td>(alcohol, malic_acid, ash, alcalinity_of_ash, ...</td>\n",
       "      <td>0.0296296</td>\n",
       "      <td>0.0148148</td>\n",
       "    </tr>\n",
       "    <tr>\n",
       "      <th>12</th>\n",
       "      <td>0.977493</td>\n",
       "      <td>0.0382724</td>\n",
       "      <td>[1.0, 0.9259259259259259, 0.9615384615384616, ...</td>\n",
       "      <td>(0, 1, 2, 3, 4, 5, 6, 7, 8, 9, 10, 12)</td>\n",
       "      <td>(alcohol, malic_acid, ash, alcalinity_of_ash, ...</td>\n",
       "      <td>0.0297772</td>\n",
       "      <td>0.0148886</td>\n",
       "    </tr>\n",
       "    <tr>\n",
       "      <th>13</th>\n",
       "      <td>0.977493</td>\n",
       "      <td>0.0382724</td>\n",
       "      <td>[1.0, 0.9259259259259259, 0.9615384615384616, ...</td>\n",
       "      <td>(0, 1, 2, 3, 4, 5, 6, 7, 8, 9, 10, 11, 12)</td>\n",
       "      <td>(alcohol, malic_acid, ash, alcalinity_of_ash, ...</td>\n",
       "      <td>0.0297772</td>\n",
       "      <td>0.0148886</td>\n",
       "    </tr>\n",
       "  </tbody>\n",
       "</table>\n",
       "</div>"
      ],
      "text/plain": [
       "   avg_score   ci_bound                                          cv_scores  \\\n",
       "1   0.743508   0.113079  [0.8571428571428571, 0.6296296296296297, 0.653...   \n",
       "2   0.932743  0.0757985  [0.9642857142857143, 0.8148148148148148, 0.961...   \n",
       "3   0.962658  0.0301363  [0.9642857142857143, 0.9259259259259259, 0.961...   \n",
       "4   0.970065  0.0192823  [0.9642857142857143, 0.9629629629629629, 0.961...   \n",
       "5   0.977208  0.0239281  [1.0, 0.9629629629629629, 0.9615384615384616, ...   \n",
       "6   0.969801  0.0358295  [1.0, 0.9259259259259259, 0.9615384615384616, ...   \n",
       "7   0.977493  0.0382724  [1.0, 0.9259259259259259, 0.9615384615384616, ...   \n",
       "8   0.978042  0.0379184  [0.9642857142857143, 0.9259259259259259, 1.0, ...   \n",
       "9   0.977493  0.0382724  [1.0, 0.9259259259259259, 0.9615384615384616, ...   \n",
       "10  0.977493  0.0382724  [1.0, 0.9259259259259259, 0.9615384615384616, ...   \n",
       "11  0.985185  0.0380827           [1.0, 0.9259259259259259, 1.0, 1.0, 1.0]   \n",
       "12  0.977493  0.0382724  [1.0, 0.9259259259259259, 0.9615384615384616, ...   \n",
       "13  0.977493  0.0382724  [1.0, 0.9259259259259259, 0.9615384615384616, ...   \n",
       "\n",
       "                                   feature_idx  \\\n",
       "1                                         (6,)   \n",
       "2                                       (6, 9)   \n",
       "3                                   (6, 9, 12)   \n",
       "4                                (1, 6, 9, 12)   \n",
       "5                             (0, 1, 6, 9, 12)   \n",
       "6                          (0, 1, 4, 6, 9, 12)   \n",
       "7                       (0, 1, 2, 4, 6, 9, 12)   \n",
       "8                    (0, 1, 2, 3, 4, 6, 9, 12)   \n",
       "9                 (0, 1, 2, 3, 4, 6, 8, 9, 12)   \n",
       "10            (0, 1, 2, 3, 4, 6, 8, 9, 10, 12)   \n",
       "11         (0, 1, 2, 3, 4, 6, 7, 8, 9, 10, 12)   \n",
       "12      (0, 1, 2, 3, 4, 5, 6, 7, 8, 9, 10, 12)   \n",
       "13  (0, 1, 2, 3, 4, 5, 6, 7, 8, 9, 10, 11, 12)   \n",
       "\n",
       "                                        feature_names    std_dev     std_err  \n",
       "1                                       (flavanoids,)  0.0879792   0.0439896  \n",
       "2                       (flavanoids, color_intensity)  0.0589738   0.0294869  \n",
       "3              (flavanoids, color_intensity, proline)  0.0234471   0.0117235  \n",
       "4   (malic_acid, flavanoids, color_intensity, prol...  0.0150023  0.00750116  \n",
       "5   (alcohol, malic_acid, flavanoids, color_intens...  0.0186169  0.00930844  \n",
       "6   (alcohol, malic_acid, magnesium, flavanoids, c...  0.0278766   0.0139383  \n",
       "7   (alcohol, malic_acid, ash, magnesium, flavanoi...  0.0297772   0.0148886  \n",
       "8   (alcohol, malic_acid, ash, alcalinity_of_ash, ...  0.0295018   0.0147509  \n",
       "9   (alcohol, malic_acid, ash, alcalinity_of_ash, ...  0.0297772   0.0148886  \n",
       "10  (alcohol, malic_acid, ash, alcalinity_of_ash, ...  0.0297772   0.0148886  \n",
       "11  (alcohol, malic_acid, ash, alcalinity_of_ash, ...  0.0296296   0.0148148  \n",
       "12  (alcohol, malic_acid, ash, alcalinity_of_ash, ...  0.0297772   0.0148886  \n",
       "13  (alcohol, malic_acid, ash, alcalinity_of_ash, ...  0.0297772   0.0148886  "
      ]
     },
     "execution_count": 17,
     "metadata": {},
     "output_type": "execute_result"
    }
   ],
   "source": [
    "sfs = SFS(estimator=RandomForestClassifier(n_estimators=100, max_depth=4), k_features=13, forward=True, scoring='accuracy')\n",
    "sfs.fit(X_train, y_train)\n",
    "val = pd.DataFrame.from_dict(sfs.get_metric_dict()).T\n",
    "val"
   ]
  },
  {
   "cell_type": "code",
   "execution_count": 18,
   "metadata": {},
   "outputs": [],
   "source": [
    "### Selecting from all features not manually"
   ]
  },
  {
   "cell_type": "code",
   "execution_count": 19,
   "metadata": {},
   "outputs": [
    {
     "data": {
      "text/plain": [
       "SequentialFeatureSelector(clone_estimator=True, cv=5,\n",
       "             estimator=RandomForestClassifier(bootstrap=True, class_weight=None, criterion='gini',\n",
       "            max_depth=4, max_features='auto', max_leaf_nodes=None,\n",
       "            min_impurity_decrease=0.0, min_impurity_split=None,\n",
       "            min_samples_leaf=1, min_samples_split=2,\n",
       "            min_weight_fraction_leaf=0.0, n_estimators=100, n_jobs=None,\n",
       "            oob_score=False, random_state=None, verbose=0,\n",
       "            warm_start=False),\n",
       "             floating=False, forward=True, k_features=(1, 13), n_jobs=1,\n",
       "             pre_dispatch='2*n_jobs', scoring='accuracy', verbose=0)"
      ]
     },
     "execution_count": 19,
     "metadata": {},
     "output_type": "execute_result"
    }
   ],
   "source": [
    "sfs = SFS(estimator=RandomForestClassifier(n_estimators=100, max_depth=4), k_features=(1, 13), forward=True, scoring='accuracy')\n",
    "sfs.fit(X_train, y_train)"
   ]
  },
  {
   "cell_type": "code",
   "execution_count": 20,
   "metadata": {},
   "outputs": [
    {
     "data": {
      "text/plain": [
       "0.9851851851851852"
      ]
     },
     "execution_count": 20,
     "metadata": {},
     "output_type": "execute_result"
    }
   ],
   "source": [
    "sfs.k_score_"
   ]
  },
  {
   "cell_type": "code",
   "execution_count": 21,
   "metadata": {},
   "outputs": [
    {
     "data": {
      "text/plain": [
       "('alcohol',\n",
       " 'malic_acid',\n",
       " 'alcalinity_of_ash',\n",
       " 'magnesium',\n",
       " 'flavanoids',\n",
       " 'color_intensity',\n",
       " 'hue',\n",
       " 'proline')"
      ]
     },
     "execution_count": 21,
     "metadata": {},
     "output_type": "execute_result"
    }
   ],
   "source": [
    "sfs.k_feature_names_"
   ]
  },
  {
   "cell_type": "code",
   "execution_count": 22,
   "metadata": {},
   "outputs": [
    {
     "data": {
      "text/plain": [
       "['alcohol',\n",
       " 'malic_acid',\n",
       " 'alcalinity_of_ash',\n",
       " 'magnesium',\n",
       " 'flavanoids',\n",
       " 'color_intensity',\n",
       " 'hue',\n",
       " 'proline']"
      ]
     },
     "execution_count": 22,
     "metadata": {},
     "output_type": "execute_result"
    }
   ],
   "source": [
    "selected_features = list(sfs.k_feature_names_)\n",
    "selected_features"
   ]
  },
  {
   "cell_type": "code",
   "execution_count": 23,
   "metadata": {},
   "outputs": [],
   "source": [
    "X_train_new = X_train[selected_features]\n",
    "X_test_new = X_test[selected_features]"
   ]
  },
  {
   "cell_type": "code",
   "execution_count": 24,
   "metadata": {},
   "outputs": [
    {
     "name": "stdout",
     "output_type": "stream",
     "text": [
      "1.0\n",
      "Wall time: 116 ms\n"
     ]
    }
   ],
   "source": [
    "%%time\n",
    "model = RandomForestClassifier(n_estimators=100, max_depth=4)\n",
    "model.fit(X_train_new, y_train)\n",
    "y_pred = model.predict(X_test_new)\n",
    "print(accuracy_score(y_test, y_pred))"
   ]
  },
  {
   "cell_type": "code",
   "execution_count": 25,
   "metadata": {},
   "outputs": [
    {
     "name": "stdout",
     "output_type": "stream",
     "text": [
      "1.0\n",
      "Wall time: 115 ms\n"
     ]
    }
   ],
   "source": [
    "%%time\n",
    "model = RandomForestClassifier(n_estimators=100, max_depth=4)\n",
    "model.fit(X_train, y_train)\n",
    "y_pred = model.predict(X_test)\n",
    "print(accuracy_score(y_test, y_pred))"
   ]
  },
  {
   "cell_type": "markdown",
   "metadata": {},
   "source": [
    "### Step Backward Selection"
   ]
  },
  {
   "cell_type": "code",
   "execution_count": 26,
   "metadata": {},
   "outputs": [],
   "source": [
    "### Selecting from all features manually"
   ]
  },
  {
   "cell_type": "code",
   "execution_count": 27,
   "metadata": {},
   "outputs": [
    {
     "data": {
      "text/html": [
       "<div>\n",
       "<style scoped>\n",
       "    .dataframe tbody tr th:only-of-type {\n",
       "        vertical-align: middle;\n",
       "    }\n",
       "\n",
       "    .dataframe tbody tr th {\n",
       "        vertical-align: top;\n",
       "    }\n",
       "\n",
       "    .dataframe thead th {\n",
       "        text-align: right;\n",
       "    }\n",
       "</style>\n",
       "<table border=\"1\" class=\"dataframe\">\n",
       "  <thead>\n",
       "    <tr style=\"text-align: right;\">\n",
       "      <th></th>\n",
       "      <th>avg_score</th>\n",
       "      <th>ci_bound</th>\n",
       "      <th>cv_scores</th>\n",
       "      <th>feature_idx</th>\n",
       "      <th>feature_names</th>\n",
       "      <th>std_dev</th>\n",
       "      <th>std_err</th>\n",
       "    </tr>\n",
       "  </thead>\n",
       "  <tbody>\n",
       "    <tr>\n",
       "      <th>13</th>\n",
       "      <td>0.977493</td>\n",
       "      <td>0.0382724</td>\n",
       "      <td>[1.0, 0.9259259259259259, 0.9615384615384616, ...</td>\n",
       "      <td>(0, 1, 2, 3, 4, 5, 6, 7, 8, 9, 10, 11, 12)</td>\n",
       "      <td>(alcohol, malic_acid, ash, alcalinity_of_ash, ...</td>\n",
       "      <td>0.0297772</td>\n",
       "      <td>0.0148886</td>\n",
       "    </tr>\n",
       "    <tr>\n",
       "      <th>12</th>\n",
       "      <td>0.985185</td>\n",
       "      <td>0.0380827</td>\n",
       "      <td>[1.0, 0.9259259259259259, 1.0, 1.0, 1.0]</td>\n",
       "      <td>(0, 1, 2, 3, 4, 5, 6, 7, 8, 9, 10, 12)</td>\n",
       "      <td>(alcohol, malic_acid, ash, alcalinity_of_ash, ...</td>\n",
       "      <td>0.0296296</td>\n",
       "      <td>0.0148148</td>\n",
       "    </tr>\n",
       "    <tr>\n",
       "      <th>11</th>\n",
       "      <td>0.985185</td>\n",
       "      <td>0.0380827</td>\n",
       "      <td>[1.0, 0.9259259259259259, 1.0, 1.0, 1.0]</td>\n",
       "      <td>(0, 1, 2, 3, 4, 5, 6, 7, 9, 10, 12)</td>\n",
       "      <td>(alcohol, malic_acid, ash, alcalinity_of_ash, ...</td>\n",
       "      <td>0.0296296</td>\n",
       "      <td>0.0148148</td>\n",
       "    </tr>\n",
       "    <tr>\n",
       "      <th>10</th>\n",
       "      <td>0.985185</td>\n",
       "      <td>0.0380827</td>\n",
       "      <td>[1.0, 0.9259259259259259, 1.0, 1.0, 1.0]</td>\n",
       "      <td>(0, 1, 2, 3, 4, 5, 6, 9, 10, 12)</td>\n",
       "      <td>(alcohol, malic_acid, ash, alcalinity_of_ash, ...</td>\n",
       "      <td>0.0296296</td>\n",
       "      <td>0.0148148</td>\n",
       "    </tr>\n",
       "    <tr>\n",
       "      <th>9</th>\n",
       "      <td>0.98545</td>\n",
       "      <td>0.0229107</td>\n",
       "      <td>[0.9642857142857143, 0.9629629629629629, 1.0, ...</td>\n",
       "      <td>(0, 1, 2, 3, 4, 5, 6, 10, 12)</td>\n",
       "      <td>(alcohol, malic_acid, ash, alcalinity_of_ash, ...</td>\n",
       "      <td>0.0178253</td>\n",
       "      <td>0.00891264</td>\n",
       "    </tr>\n",
       "    <tr>\n",
       "      <th>8</th>\n",
       "      <td>0.9849</td>\n",
       "      <td>0.0237763</td>\n",
       "      <td>[1.0, 0.9629629629629629, 1.0, 0.9615384615384...</td>\n",
       "      <td>(0, 2, 3, 4, 5, 6, 10, 12)</td>\n",
       "      <td>(alcohol, ash, alcalinity_of_ash, magnesium, t...</td>\n",
       "      <td>0.0184988</td>\n",
       "      <td>0.00924939</td>\n",
       "    </tr>\n",
       "    <tr>\n",
       "      <th>7</th>\n",
       "      <td>0.98545</td>\n",
       "      <td>0.0229107</td>\n",
       "      <td>[0.9642857142857143, 0.9629629629629629, 1.0, ...</td>\n",
       "      <td>(0, 2, 3, 4, 5, 6, 10)</td>\n",
       "      <td>(alcohol, ash, alcalinity_of_ash, magnesium, t...</td>\n",
       "      <td>0.0178253</td>\n",
       "      <td>0.00891264</td>\n",
       "    </tr>\n",
       "    <tr>\n",
       "      <th>6</th>\n",
       "      <td>0.98545</td>\n",
       "      <td>0.0229107</td>\n",
       "      <td>[0.9642857142857143, 0.9629629629629629, 1.0, ...</td>\n",
       "      <td>(0, 2, 4, 5, 6, 10)</td>\n",
       "      <td>(alcohol, ash, magnesium, total_phenols, flava...</td>\n",
       "      <td>0.0178253</td>\n",
       "      <td>0.00891264</td>\n",
       "    </tr>\n",
       "    <tr>\n",
       "      <th>5</th>\n",
       "      <td>0.977757</td>\n",
       "      <td>0.0233689</td>\n",
       "      <td>[0.9642857142857143, 0.9629629629629629, 1.0, ...</td>\n",
       "      <td>(0, 4, 5, 6, 10)</td>\n",
       "      <td>(alcohol, magnesium, total_phenols, flavanoids...</td>\n",
       "      <td>0.0181818</td>\n",
       "      <td>0.00909088</td>\n",
       "    </tr>\n",
       "    <tr>\n",
       "      <th>4</th>\n",
       "      <td>0.962658</td>\n",
       "      <td>0.0434246</td>\n",
       "      <td>[0.9642857142857143, 0.9259259259259259, 1.0, ...</td>\n",
       "      <td>(0, 4, 6, 10)</td>\n",
       "      <td>(alcohol, magnesium, flavanoids, hue)</td>\n",
       "      <td>0.0337858</td>\n",
       "      <td>0.0168929</td>\n",
       "    </tr>\n",
       "    <tr>\n",
       "      <th>3</th>\n",
       "      <td>0.962658</td>\n",
       "      <td>0.0434246</td>\n",
       "      <td>[0.9642857142857143, 0.9259259259259259, 1.0, ...</td>\n",
       "      <td>(0, 6, 10)</td>\n",
       "      <td>(alcohol, flavanoids, hue)</td>\n",
       "      <td>0.0337858</td>\n",
       "      <td>0.0168929</td>\n",
       "    </tr>\n",
       "    <tr>\n",
       "      <th>2</th>\n",
       "      <td>0.917603</td>\n",
       "      <td>0.0564571</td>\n",
       "      <td>[0.8928571428571429, 0.9259259259259259, 0.884...</td>\n",
       "      <td>(0, 6)</td>\n",
       "      <td>(alcohol, flavanoids)</td>\n",
       "      <td>0.0439255</td>\n",
       "      <td>0.0219628</td>\n",
       "    </tr>\n",
       "    <tr>\n",
       "      <th>1</th>\n",
       "      <td>0.742959</td>\n",
       "      <td>0.113102</td>\n",
       "      <td>[0.8928571428571429, 0.6296296296296297, 0.692...</td>\n",
       "      <td>(6,)</td>\n",
       "      <td>(flavanoids,)</td>\n",
       "      <td>0.087997</td>\n",
       "      <td>0.0439985</td>\n",
       "    </tr>\n",
       "  </tbody>\n",
       "</table>\n",
       "</div>"
      ],
      "text/plain": [
       "   avg_score   ci_bound                                          cv_scores  \\\n",
       "13  0.977493  0.0382724  [1.0, 0.9259259259259259, 0.9615384615384616, ...   \n",
       "12  0.985185  0.0380827           [1.0, 0.9259259259259259, 1.0, 1.0, 1.0]   \n",
       "11  0.985185  0.0380827           [1.0, 0.9259259259259259, 1.0, 1.0, 1.0]   \n",
       "10  0.985185  0.0380827           [1.0, 0.9259259259259259, 1.0, 1.0, 1.0]   \n",
       "9    0.98545  0.0229107  [0.9642857142857143, 0.9629629629629629, 1.0, ...   \n",
       "8     0.9849  0.0237763  [1.0, 0.9629629629629629, 1.0, 0.9615384615384...   \n",
       "7    0.98545  0.0229107  [0.9642857142857143, 0.9629629629629629, 1.0, ...   \n",
       "6    0.98545  0.0229107  [0.9642857142857143, 0.9629629629629629, 1.0, ...   \n",
       "5   0.977757  0.0233689  [0.9642857142857143, 0.9629629629629629, 1.0, ...   \n",
       "4   0.962658  0.0434246  [0.9642857142857143, 0.9259259259259259, 1.0, ...   \n",
       "3   0.962658  0.0434246  [0.9642857142857143, 0.9259259259259259, 1.0, ...   \n",
       "2   0.917603  0.0564571  [0.8928571428571429, 0.9259259259259259, 0.884...   \n",
       "1   0.742959   0.113102  [0.8928571428571429, 0.6296296296296297, 0.692...   \n",
       "\n",
       "                                   feature_idx  \\\n",
       "13  (0, 1, 2, 3, 4, 5, 6, 7, 8, 9, 10, 11, 12)   \n",
       "12      (0, 1, 2, 3, 4, 5, 6, 7, 8, 9, 10, 12)   \n",
       "11         (0, 1, 2, 3, 4, 5, 6, 7, 9, 10, 12)   \n",
       "10            (0, 1, 2, 3, 4, 5, 6, 9, 10, 12)   \n",
       "9                (0, 1, 2, 3, 4, 5, 6, 10, 12)   \n",
       "8                   (0, 2, 3, 4, 5, 6, 10, 12)   \n",
       "7                       (0, 2, 3, 4, 5, 6, 10)   \n",
       "6                          (0, 2, 4, 5, 6, 10)   \n",
       "5                             (0, 4, 5, 6, 10)   \n",
       "4                                (0, 4, 6, 10)   \n",
       "3                                   (0, 6, 10)   \n",
       "2                                       (0, 6)   \n",
       "1                                         (6,)   \n",
       "\n",
       "                                        feature_names    std_dev     std_err  \n",
       "13  (alcohol, malic_acid, ash, alcalinity_of_ash, ...  0.0297772   0.0148886  \n",
       "12  (alcohol, malic_acid, ash, alcalinity_of_ash, ...  0.0296296   0.0148148  \n",
       "11  (alcohol, malic_acid, ash, alcalinity_of_ash, ...  0.0296296   0.0148148  \n",
       "10  (alcohol, malic_acid, ash, alcalinity_of_ash, ...  0.0296296   0.0148148  \n",
       "9   (alcohol, malic_acid, ash, alcalinity_of_ash, ...  0.0178253  0.00891264  \n",
       "8   (alcohol, ash, alcalinity_of_ash, magnesium, t...  0.0184988  0.00924939  \n",
       "7   (alcohol, ash, alcalinity_of_ash, magnesium, t...  0.0178253  0.00891264  \n",
       "6   (alcohol, ash, magnesium, total_phenols, flava...  0.0178253  0.00891264  \n",
       "5   (alcohol, magnesium, total_phenols, flavanoids...  0.0181818  0.00909088  \n",
       "4               (alcohol, magnesium, flavanoids, hue)  0.0337858   0.0168929  \n",
       "3                          (alcohol, flavanoids, hue)  0.0337858   0.0168929  \n",
       "2                               (alcohol, flavanoids)  0.0439255   0.0219628  \n",
       "1                                       (flavanoids,)   0.087997   0.0439985  "
      ]
     },
     "execution_count": 27,
     "metadata": {},
     "output_type": "execute_result"
    }
   ],
   "source": [
    "sbs = SFS(estimator=RandomForestClassifier(n_estimators=100, max_depth=4), k_features=1, forward=False, scoring='accuracy')\n",
    "sbs.fit(X_train, y_train)\n",
    "val = pd.DataFrame.from_dict(sbs.get_metric_dict()).T\n",
    "val"
   ]
  },
  {
   "cell_type": "code",
   "execution_count": 28,
   "metadata": {},
   "outputs": [],
   "source": [
    "###### Selecting from all features not manually"
   ]
  },
  {
   "cell_type": "code",
   "execution_count": 29,
   "metadata": {},
   "outputs": [
    {
     "data": {
      "text/plain": [
       "SequentialFeatureSelector(clone_estimator=True, cv=5,\n",
       "             estimator=RandomForestClassifier(bootstrap=True, class_weight=None, criterion='gini',\n",
       "            max_depth=4, max_features='auto', max_leaf_nodes=None,\n",
       "            min_impurity_decrease=0.0, min_impurity_split=None,\n",
       "            min_samples_leaf=1, min_samples_split=2,\n",
       "            min_weight_fraction_leaf=0.0, n_estimators=100, n_jobs=None,\n",
       "            oob_score=False, random_state=None, verbose=0,\n",
       "            warm_start=False),\n",
       "             floating=False, forward=False, k_features=(1, 13), n_jobs=1,\n",
       "             pre_dispatch='2*n_jobs', scoring='accuracy', verbose=0)"
      ]
     },
     "execution_count": 29,
     "metadata": {},
     "output_type": "execute_result"
    }
   ],
   "source": [
    "sbs = SFS(estimator=RandomForestClassifier(n_estimators=100, max_depth=4), k_features=(1, 13), forward=False, scoring='accuracy')\n",
    "sbs.fit(X_train, y_train)"
   ]
  },
  {
   "cell_type": "code",
   "execution_count": 30,
   "metadata": {},
   "outputs": [
    {
     "data": {
      "text/plain": [
       "0.9925925925925926"
      ]
     },
     "execution_count": 30,
     "metadata": {},
     "output_type": "execute_result"
    }
   ],
   "source": [
    "sbs.k_score_"
   ]
  },
  {
   "cell_type": "code",
   "execution_count": 31,
   "metadata": {},
   "outputs": [
    {
     "data": {
      "text/plain": [
       "('alcohol',\n",
       " 'ash',\n",
       " 'alcalinity_of_ash',\n",
       " 'magnesium',\n",
       " 'total_phenols',\n",
       " 'flavanoids',\n",
       " 'nonflavanoid_phenols',\n",
       " 'proanthocyanins',\n",
       " 'hue',\n",
       " 'proline')"
      ]
     },
     "execution_count": 31,
     "metadata": {},
     "output_type": "execute_result"
    }
   ],
   "source": [
    "sbs.k_feature_names_"
   ]
  },
  {
   "cell_type": "code",
   "execution_count": 32,
   "metadata": {},
   "outputs": [],
   "source": [
    "X_train_new = X_train[list(sbs.k_feature_names_)]\n",
    "X_test_new = X_test[list(sbs.k_feature_names_)]"
   ]
  },
  {
   "cell_type": "code",
   "execution_count": 33,
   "metadata": {},
   "outputs": [
    {
     "name": "stdout",
     "output_type": "stream",
     "text": [
      "0.9777777777777777\n",
      "Wall time: 160 ms\n"
     ]
    }
   ],
   "source": [
    "%%time\n",
    "model = RandomForestClassifier(n_estimators=100, max_depth=4)\n",
    "model.fit(X_train_new, y_train)\n",
    "y_pred = model.predict(X_test_new)\n",
    "print(accuracy_score(y_test, y_pred))"
   ]
  },
  {
   "cell_type": "code",
   "execution_count": 34,
   "metadata": {},
   "outputs": [
    {
     "name": "stdout",
     "output_type": "stream",
     "text": [
      "1.0\n",
      "Wall time: 112 ms\n"
     ]
    }
   ],
   "source": [
    "%%time\n",
    "model = RandomForestClassifier(n_estimators=100, max_depth=4)\n",
    "model.fit(X_train, y_train)\n",
    "y_pred = model.predict(X_test)\n",
    "print(accuracy_score(y_test, y_pred))"
   ]
  },
  {
   "cell_type": "markdown",
   "metadata": {},
   "source": [
    "### Exhaustive Feature Selection"
   ]
  },
  {
   "cell_type": "code",
   "execution_count": 35,
   "metadata": {},
   "outputs": [],
   "source": [
    "from mlxtend.feature_selection import ExhaustiveFeatureSelector as EFS"
   ]
  },
  {
   "cell_type": "code",
   "execution_count": 36,
   "metadata": {},
   "outputs": [
    {
     "name": "stderr",
     "output_type": "stream",
     "text": [
      "Features: 7722/7722"
     ]
    },
    {
     "data": {
      "text/plain": [
       "ExhaustiveFeatureSelector(clone_estimator=True, cv=5,\n",
       "             estimator=RandomForestClassifier(bootstrap=True, class_weight=None, criterion='gini',\n",
       "            max_depth=4, max_features='auto', max_leaf_nodes=None,\n",
       "            min_impurity_decrease=0.0, min_impurity_split=None,\n",
       "            min_samples_leaf=1, min_samples_split=2,\n",
       "            min_weight_fraction_leaf=0.0, n_estimators=100, n_jobs=None,\n",
       "            oob_score=False, random_state=None, verbose=0,\n",
       "            warm_start=False),\n",
       "             max_features=10, min_features=4, n_jobs=1,\n",
       "             pre_dispatch='2*n_jobs', print_progress=True,\n",
       "             scoring='accuracy')"
      ]
     },
     "execution_count": 36,
     "metadata": {},
     "output_type": "execute_result"
    }
   ],
   "source": [
    "efs = EFS(RandomForestClassifier(n_estimators=100, max_depth=4),min_features=4, max_features=10, scoring='accuracy')\n",
    "efs.fit(X_train, y_train)"
   ]
  },
  {
   "cell_type": "code",
   "execution_count": 37,
   "metadata": {},
   "outputs": [
    {
     "data": {
      "text/plain": [
       "0.9925925925925926"
      ]
     },
     "execution_count": 37,
     "metadata": {},
     "output_type": "execute_result"
    }
   ],
   "source": [
    "efs.best_score_"
   ]
  },
  {
   "cell_type": "code",
   "execution_count": 38,
   "metadata": {},
   "outputs": [
    {
     "data": {
      "text/plain": [
       "('ash',\n",
       " 'alcalinity_of_ash',\n",
       " 'magnesium',\n",
       " 'flavanoids',\n",
       " 'proanthocyanins',\n",
       " 'color_intensity',\n",
       " 'proline')"
      ]
     },
     "execution_count": 38,
     "metadata": {},
     "output_type": "execute_result"
    }
   ],
   "source": [
    "efs.best_feature_names_"
   ]
  },
  {
   "cell_type": "code",
   "execution_count": 39,
   "metadata": {},
   "outputs": [],
   "source": [
    "X_train_new = X_train[list(efs.best_feature_names_)]\n",
    "X_test_new = X_test[list(efs.best_feature_names_)]"
   ]
  },
  {
   "cell_type": "code",
   "execution_count": 40,
   "metadata": {},
   "outputs": [
    {
     "name": "stdout",
     "output_type": "stream",
     "text": [
      "0.9777777777777777\n",
      "Wall time: 127 ms\n"
     ]
    }
   ],
   "source": [
    "%%time\n",
    "model = RandomForestClassifier(n_estimators=100, max_depth=4)\n",
    "model.fit(X_train_new, y_train)\n",
    "y_pred = model.predict(X_test_new)\n",
    "print(accuracy_score(y_test, y_pred))"
   ]
  },
  {
   "cell_type": "code",
   "execution_count": 41,
   "metadata": {},
   "outputs": [
    {
     "name": "stdout",
     "output_type": "stream",
     "text": [
      "1.0\n",
      "Wall time: 130 ms\n"
     ]
    }
   ],
   "source": [
    "%%time\n",
    "model = RandomForestClassifier(n_estimators=100, max_depth=4)\n",
    "model.fit(X_train, y_train)\n",
    "y_pred = model.predict(X_test)\n",
    "print(accuracy_score(y_test, y_pred))"
   ]
  },
  {
   "cell_type": "code",
   "execution_count": null,
   "metadata": {},
   "outputs": [],
   "source": []
  }
 ],
 "metadata": {
  "kernelspec": {
   "display_name": "Python 3",
   "language": "python",
   "name": "python3"
  },
  "language_info": {
   "codemirror_mode": {
    "name": "ipython",
    "version": 3
   },
   "file_extension": ".py",
   "mimetype": "text/x-python",
   "name": "python",
   "nbconvert_exporter": "python",
   "pygments_lexer": "ipython3",
   "version": "3.7.3"
  }
 },
 "nbformat": 4,
 "nbformat_minor": 2
}
